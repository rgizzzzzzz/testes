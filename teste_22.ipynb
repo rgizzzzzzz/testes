{
 "cells": [
  {
   "cell_type": "markdown",
   "id": "3f9d245c",
   "metadata": {},
   "source": [
    "# Análise de Vendas utilizando Excel e Power Bi"
   ]
  },
  {
   "cell_type": "markdown",
   "id": "74156069",
   "metadata": {},
   "source": [
    "<img src=\"https://raw.githubusercontent.com/rgizsilva/Analise_Vendas_Excel/main/Imagens/excel_capa.jpg\" alt=\"drawing\" width=\"600\"/>"
   ]
  },
  {
   "cell_type": "markdown",
   "id": "a8f55746",
   "metadata": {},
   "source": [
    "\n",
    "\n",
    "[![](https://img.shields.io/badge/Apache-License-green)](https://github.com/rgizsilva/Analise-de-dados-acidentes-rodoviarios/blob/main/LICENSE)\n",
    "\n",
    "[![](https://img.shields.io/badge/Linkedin-Reginaldo-blue )](https://www.linkedin.com/in/rgiz/)"
   ]
  },
  {
   "cell_type": "markdown",
   "id": "dbf1248d",
   "metadata": {},
   "source": [
    "#### Uma empresa na área de vendas no varejo, está buscando tomar decisões baseada em dados. No momento, a empresa possui apenas planilhas para registro de vendas, mas não possui um analista de dados e pediu para fazermos análises para poder tomar decisões baseadas em seus dados.\n",
    "#### Para isso, vamos utilizar o Microsoft Excel para calcular algumas medidas e mostrar em gráficos os resultados. Também faremos um Dashboard interativo em Power BI com métricas e indicadores para gerenciar os dados em tempo real."
   ]
  },
  {
   "cell_type": "markdown",
   "id": "9baaf84a",
   "metadata": {},
   "source": [
    "O primeiro passo é observar os dados. Vamos olhar quais são as variáveis que temos em nossa tabela."
   ]
  },
  {
   "cell_type": "markdown",
   "id": "dd6970e0",
   "metadata": {},
   "source": [
    "<img src=\"https://raw.githubusercontent.com/rgizsilva/Analise_Vendas_Excel/main/Imagens/planilha_toda.JPG\" alt=\"drawing\" width=\"900\"/>"
   ]
  },
  {
   "cell_type": "markdown",
   "id": "9e93b8c7",
   "metadata": {},
   "source": [
    "Nossa base de dados contém **21.682 registros** \n",
    "\n",
    "\n",
    "São registros dos anos **2012** e **2013**"
   ]
  },
  {
   "cell_type": "markdown",
   "id": "1a360730",
   "metadata": {},
   "source": [
    "### Dicionário de dados"
   ]
  },
  {
   "cell_type": "markdown",
   "id": "79159def",
   "metadata": {},
   "source": [
    "**Pedido** - *ID único do pedido* \n",
    "\n",
    "**Cód.cliente** - *ID único do cliente* \n",
    "\n",
    "**Cliente** - *ID do cliente* \n",
    "\n",
    "**Data** - *Data da venda* \n",
    "\n",
    "**Cidade** - *Cidade onde ocorreu a venda* \n",
    "\n",
    "**UF** - *Estado onde ocorreu a venda* \n",
    "\n",
    "**Regional** - *Divisão de região contendo Região 1, Região 2 e Região 3*\n",
    "\n",
    "**Cód.Produto** - *ID únuco do produto*\n",
    "\n",
    "**Produto** - *Nome do produto*\n",
    "\n",
    "**Classe** - *Classe do produto sendo elas :*\n",
    "- *Áudio e vídeo*\n",
    "- *Linha Branca*\n",
    "- *Móveis*\n",
    "- *Eletrodomésticos*\n",
    "- *Informática*\n",
    "- *Telefonia*\n",
    "- *Utilidades* \n",
    "\n",
    "**Qtde** - *Quantidade de produtos no pedido*\n",
    "\n",
    "**ValorUnitário** - *Valor de cada produto*\n",
    "\n",
    "**ValorTotal** - *Valor total do pedido*\n",
    "\n",
    "**Percentual** - *Margem de comissão do valor do pedido para o vendedor*\n",
    "\n",
    "**Comissão** - *Valor em reais da comissão ao vendedor* "
   ]
  },
  {
   "cell_type": "markdown",
   "id": "ef258843",
   "metadata": {},
   "source": [
    "----"
   ]
  },
  {
   "cell_type": "markdown",
   "id": "b5eb6a78",
   "metadata": {},
   "source": [
    "Agora vamos entender melhor os dados, vamos fazer uma **sumarização**  para conhecer quais são as regiões que temos, quais são os estados dessas regiões e quais são os produtos e suas classes."
   ]
  },
  {
   "cell_type": "markdown",
   "id": "08ddd651",
   "metadata": {},
   "source": [
    "<img src=\"https://raw.githubusercontent.com/rgizsilva/Analise_Vendas_Excel/main/Imagens/planilha_regionais.JPG\" alt=\"drawing\" width=\"200\"/>"
   ]
  },
  {
   "cell_type": "markdown",
   "id": "6685e149",
   "metadata": {},
   "source": [
    "Temos **3** cidades na *Região 1* sendo elas **Joinville, Blumenau e Florianópolis** Sendo todas elas do estado de **Santa Catarina** \n",
    "\n",
    "Temos **2** cidades na *Região 2* sendo elas **Criciúma e Chapecó** também do estado de **Santa Catarina** \n",
    "\n",
    "E por fim, temos **6** cidades na *Região 3* sendo elas **Curitiba, Londrina,Arapongas e Araucária** do estado do **Paraná** e **Porto Alegre e Alegrete** do estado do **Rio Grande do Sul**"
   ]
  },
  {
   "cell_type": "markdown",
   "id": "1c859397",
   "metadata": {},
   "source": [
    "<img src=\"https://raw.githubusercontent.com/rgizsilva/Analise_Vendas_Excel/de03b4e65c0fa220bd99528301e2013be4c3065b/planilha_produtos_class.JPG\" alt=\"drawing\" width=\"400\"/>"
   ]
  },
  {
   "cell_type": "markdown",
   "id": "3d7b3eca",
   "metadata": {},
   "source": [
    "Na tabela acima, temos todos os **produtos classificados por classe**."
   ]
  },
  {
   "cell_type": "markdown",
   "id": "577b9970",
   "metadata": {},
   "source": [
    "----"
   ]
  },
  {
   "cell_type": "markdown",
   "id": "a294a014",
   "metadata": {},
   "source": [
    "Faremos uma **análise exploratória** utilizando **gráficos** para entender a distribuição dos nossos dados para algumas informações."
   ]
  },
  {
   "cell_type": "markdown",
   "id": "6f00fa37",
   "metadata": {},
   "source": [
    "<img src=\"https://raw.githubusercontent.com/rgizsilva/Analise_Vendas_Excel/main/Graficos/qntd_regiao2.JPG\" alt=\"drawing\" width=\"900\"/>"
   ]
  },
  {
   "cell_type": "markdown",
   "id": "a2d08c7a",
   "metadata": {},
   "source": [
    "Com os gráficos acima podemos perceber que a **Região 2** é a que tem **menos número de vendas**. Porém, com o segundo gráfico de vendas por cidades, podemos perceber que **Criciúma** que pertence à Região 2 é a segunda cidade com **maior número de vendas**. Então como vamos canalizar essa informação sobre vendas? \n",
    "Podemos utilizar a média de vendas por cidade. **Numero total de vendas / cidade** chegamos ao valor médio de **1971** vendas por cidade.\n",
    "Com isso, podemos perceber que mesmo a **Região 3** sendo a região com mais vendas, apenas uma cidade, **Alegrete**,está com as vendas acima da média."
   ]
  },
  {
   "cell_type": "markdown",
   "id": "e117487a",
   "metadata": {},
   "source": [
    "Sendo assim, vamos a próxima pergunta : Como estão distribuídos em **categoria de produtos** e **valor de vendas** por região? "
   ]
  },
  {
   "cell_type": "markdown",
   "id": "39851350",
   "metadata": {},
   "source": [
    "<img src=\"https://raw.githubusercontent.com/rgizsilva/Analise_Vendas_Excel/main/Graficos/qnat_vendas_ultimo.JPG\" alt=\"drawing\" width=\"700\"/>"
   ]
  },
  {
   "cell_type": "markdown",
   "id": "3ce59186",
   "metadata": {},
   "source": [
    "O gráfico nos mostra que a categoria de **móveis** nos chama bastante atenção por não ser a categoria que contém mais produtos(apenas 4  entre camas e sofá), teve faturamento e número de vendas bem expressivos na **Região 1**, sendo o vice-líder de vendas da empresa. Será que esse movimento de vendas, foi algo sazonal? Vamos acompanhar o gráfico a seguir para concluir."
   ]
  },
  {
   "cell_type": "markdown",
   "id": "504a2eac",
   "metadata": {},
   "source": [
    "<img src=\"https://raw.githubusercontent.com/rgizsilva/Analise_Vendas_Excel/main/Graficos/vendas_moveis.JPG\" alt=\"drawing\" width=\"650\"/>"
   ]
  },
  {
   "cell_type": "markdown",
   "id": "d4060d74",
   "metadata": {},
   "source": [
    "Podemos observar no gráfico acima que em **março** de **2013** tivemos um pico de vendas em todas as regiões. Mas o que nos chama atenção,  é que logo após esse pico, houve uma queda brusca nas vendas de **móveis** para a **Região3,** não conseguindo retomar a suas médias de vendas anteriores. \n",
    "\n",
    "**Obs :** A nossa base de dados tem como registro as vendas até o terceiro dia de **outubro** de **2013**."
   ]
  },
  {
   "cell_type": "markdown",
   "id": "cb86cb24",
   "metadata": {},
   "source": [
    "Analisando os gráficos de vendas por classes descobri um problema em nossa base que veremos a seguir:"
   ]
  },
  {
   "cell_type": "markdown",
   "id": "7ec374e9",
   "metadata": {},
   "source": [
    "<img src=\"https://raw.githubusercontent.com/rgizsilva/Analise_Vendas_Excel/main/Graficos/vendas_utilid.JPG\" alt=\"drawing\" width=\"650\"/>"
   ]
  },
  {
   "cell_type": "markdown",
   "id": "ecb4fd0b",
   "metadata": {},
   "source": [
    "No primeiro gráfico, vemos que as vendas de produtos da categoria **Utilidades** começaram a ter uma queda nas vendas nas **Regiões 1** e **2** no final de **2012** e no começo de **2013**. Logo após essa queda nas vendas, não tivemos registros de vendas na base até o mês de **agosto**. Não sabemos se a empresa deixou de vender produtos dessa categoria por esse período ou se foi uma falha no registro das vendas. Como na **Região 3** houve registros, ficamos com a hipótese de que a empresa realmente não vendeu esses produtos nessas regiões."
   ]
  },
  {
   "cell_type": "markdown",
   "id": "83a3af21",
   "metadata": {},
   "source": [
    "Já no gráfico das vendas de **Eletrodomésticos**, a empresa vendeu para a **Região 2** até o final de **2012** e só foi registrar vendas novamente em **agosto** de **2013**.\n",
    "Para a **Região 1**, só existem registros de vendas a partir do mês de **março** de **2013**.\n",
    "\n",
    "Isso reflete o **baixo valor de faturamento** da empresa nesses produtos que vimos nos gráficos anteriores."
   ]
  },
  {
   "cell_type": "markdown",
   "id": "71984938",
   "metadata": {},
   "source": [
    "Veremos como se comporta de **modo geral** as **vendas** nas **regiões**."
   ]
  },
  {
   "cell_type": "markdown",
   "id": "e5036d68",
   "metadata": {},
   "source": [
    "<img src=\"https://raw.githubusercontent.com/rgizsilva/Analise_Vendas_Excel/main/Graficos/vendas_geral.JPG\" alt=\"drawing\" width=\"650\"/>"
   ]
  },
  {
   "cell_type": "markdown",
   "id": "0c0c83de",
   "metadata": {},
   "source": [
    "O Gráfico nos mostra que de modo geral as **vendas não sofreram nenhuma oscilação brusca**"
   ]
  },
  {
   "cell_type": "markdown",
   "id": "8449e258",
   "metadata": {},
   "source": [
    "<img src=\"https://raw.githubusercontent.com/rgizsilva/Analise_Vendas_Excel/main/Graficos/valor_produtos.JPG\" alt=\"drawing\" width=\"800\"/>"
   ]
  },
  {
   "cell_type": "markdown",
   "id": "22da3a8b",
   "metadata": {},
   "source": [
    "<img src=\"https://raw.githubusercontent.com/rgizsilva/Analise_Vendas_Excel/main/Graficos/total_produtos.JPG\" alt=\"drawing\" width=\"800\"/>"
   ]
  },
  {
   "cell_type": "markdown",
   "id": "ff52b705",
   "metadata": {},
   "source": [
    "Em relação aos produtos, vemos que o produto **Parafusadeira/Furadeira Sem fio GY** é o terceiro produto mais vendido da empresa e um dos mais baratos de nossa base. Será que existe alguma **relação entre o valor do produto e a sua quantidade vendida?** Será que quanto **menor o preço do produto maior é a sua venda?** Veremos a seguir com gráfico de **dispersão**."
   ]
  },
  {
   "cell_type": "markdown",
   "id": "65ddfa70",
   "metadata": {},
   "source": [
    "<img src=\"https://raw.githubusercontent.com/rgizsilva/Analise_Vendas_Excel/main/Graficos/disper_preco2.JPG\" alt=\"drawing\" width=\"500\"/>"
   ]
  },
  {
   "cell_type": "markdown",
   "id": "a15a009c",
   "metadata": {},
   "source": [
    "Podemos perceber que **não existe** uma **relação linear** entre o valor do produto e a quantidade vendida por pedido, ou seja, todos os produtos são vendidos de formas iguais."
   ]
  },
  {
   "cell_type": "markdown",
   "id": "86bd124a",
   "metadata": {},
   "source": [
    "Assim, vamos finalizar a análise exploratória mostrando a **porcentagem de cada produto vendido em relação às vendas de cada região**."
   ]
  },
  {
   "cell_type": "markdown",
   "id": "ae665c19",
   "metadata": {},
   "source": [
    "<img src=\"https://raw.githubusercontent.com/rgizsilva/Analise_Vendas_Excel/main/Graficos/por_reg1.JPG\" alt=\"drawing\" width=\"1100\"/>"
   ]
  },
  {
   "cell_type": "markdown",
   "id": "10b5a88f",
   "metadata": {},
   "source": [
    "<img src=\"https://raw.githubusercontent.com/rgizsilva/Analise_Vendas_Excel/main/Graficos/por_reg2.JPG\" alt=\"drawing\" width=\"1100\"/>"
   ]
  },
  {
   "cell_type": "markdown",
   "id": "57adb198",
   "metadata": {},
   "source": [
    "<img src=\"https://raw.githubusercontent.com/rgizsilva/Analise_Vendas_Excel/main/Graficos/por_reg3.JPG\" alt=\"drawing\" width=\"1100\"/>"
   ]
  },
  {
   "cell_type": "markdown",
   "id": "4fb3d968",
   "metadata": {},
   "source": [
    "Podemos perceber que **não existe relação entre os produtos mais vendidos em regiões diferentes**, cada região tem sua venda independente."
   ]
  },
  {
   "cell_type": "markdown",
   "id": "4e56d746",
   "metadata": {},
   "source": [
    "Veremos agora, quais foram as **comissões pagas por cada produto**."
   ]
  },
  {
   "cell_type": "markdown",
   "id": "386ea1eb",
   "metadata": {},
   "source": [
    "<img src=\"https://raw.githubusercontent.com/rgizsilva/Analise_Vendas_Excel/main/Graficos/comi_vendas.JPG\" alt=\"drawing\" width=\"1100\"/>"
   ]
  },
  {
   "cell_type": "markdown",
   "id": "5548e823",
   "metadata": {},
   "source": [
    "----"
   ]
  },
  {
   "cell_type": "markdown",
   "id": "5dc59c5a",
   "metadata": {},
   "source": [
    "O gerente de vendas da empresa decidiu aumentar a comissão paga nas vendas do produto **Secadora de roupa 10kg** no último mês como objetivo de aumentar as vendas e se igualar ao produto mais vendido, e como vimos no gráfico, ela alcançou o **segundo lugar em produtos com maiores comissões**. Ele gostaria de saber, se esse fato foi por que as vendas desse produto aumentaram no último mês(setembro),ou não. Para isso, realizaremos um **teste de hipótese** comparando as médias de vendas no último mês do produto **Secadora de roupa 10kg** e do produto líder de vendas **Conjunto Box Conjugado Casal 1,38**. Será que a média de venda desses dois produtos são significantemente **iguais** ou são **diferentes**?"
   ]
  },
  {
   "cell_type": "markdown",
   "id": "9e8a6b0e",
   "metadata": {},
   "source": [
    "O nosso teste estatístico escolhido foi o teste **T de Student**, onde vamos comparar a média de duas amostras não pareadas. No entanto, antes disso precisamos descobrir se às amostras possuem variâncias iguais ou diferentes. Para descobrir isso, vamos realizar o **teste estatístico F**, cujo objetivo é calcular a diferença da variância de duas populações."
   ]
  },
  {
   "cell_type": "markdown",
   "id": "dfbbf99a",
   "metadata": {},
   "source": [
    "<img src=\"https://raw.githubusercontent.com/rgizsilva/Analise_Vendas_Excel/main/Graficos/teste_hipo.JPG\" alt=\"drawing\" width=\"900\"/>"
   ]
  },
  {
   "cell_type": "markdown",
   "id": "5a0958a3",
   "metadata": {},
   "source": [
    "Adotando o **p-valor** como medida do teste, **aceitamos a hipótese de que são variâncias iguais**, ou seja, ao nível de 5% de significância para rejeição de H₀, o nosso p-valor foi maior e por isso optamos pela não rejeição de H₀, e assumimos que **não existe diferença significativa para as duas variâncias**."
   ]
  },
  {
   "cell_type": "markdown",
   "id": "85415a21",
   "metadata": {},
   "source": [
    "Em seguida, realizamos o teste **T de Student**, onde testamos hipóteses sobre as médias das amostras. O nosso **p-valor foi menor que o nível de significância de 5%** então **rejeitamos H₀** e assumimos que **existe uma diferença significativa nas médias das vendas dos produtos**. Portanto, concluímos que o produto **Secadora de roupa 10kg** durante o mês de setembro teve média de vendas **abaixo do produto mais vendido**, não confirmando a expectativa do gerente de vendas em que teria uma média de vendas igual ao produto mais vendido."
   ]
  },
  {
   "cell_type": "markdown",
   "id": "645fa444",
   "metadata": {},
   "source": [
    "----"
   ]
  },
  {
   "cell_type": "markdown",
   "id": "4507c0ea",
   "metadata": {},
   "source": [
    "Agora o gerente de vendas quer saber como está a campanha baseando-se nas vendas pré e pós-campanha do aumento de comissão. Para isso, vamos pegar **2 amostras** do produto **Secadora de roupa 10kg**, a primeira amostra são algumas vendas no mês de **agosto** quando a campanha ainda não estava em vigor e a segunda amostra são vendas do mês de **setembro** quando ja estava em vigor. Vamos comparar a média do número de vendas para saber se a campanha surtiu o efeito esperado.\n",
    "Temos que o efeito esperado é de que houve uma mudança e as vendas do mês de **setembro** são maiores do que as vendas do mês de **agosto**, para isso nossa hipótese nula é de que não houve mudança nas vendas e as médias são iguais e a hipótese alternativa é que houve esse aumento nas vendas. Para isso, vamos realizar um **Teste T de Student para amostras pareadas** para verificar a comparação das médias e assumir uma das hipóteses."
   ]
  },
  {
   "cell_type": "markdown",
   "id": "780af7da",
   "metadata": {},
   "source": [
    "Antes de fazer essa comparação, vamos realizar alguns testes para ver se os pressupostos estão sendo cumpridos. O primeiro é de que precisamos calcular a diferença das médias das amostras, e essa diferença precisa ser uma **distribuição normal**. Além disso, não podem haver valores **outiliers** nessa distribuição, ou seja, não podem conter valores que fogem da normalidade da distribuição dos dados. Para isso vamos usar um teste de **Shapiro-Wilk** cujo objetivo é avaliar se uma distribuição é semelhante a uma distribuição normal e um **gráfico de Box Plot** para detectar se há presença de valores **outliers**."
   ]
  },
  {
   "cell_type": "markdown",
   "id": "aa533fa0",
   "metadata": {},
   "source": [
    "<img src=\"https://raw.githubusercontent.com/rgizsilva/Analise_Vendas_Excel/main/Graficos/shapiro.JPG\" alt=\"drawing\" width=\"800\"/>"
   ]
  },
  {
   "cell_type": "markdown",
   "id": "606a0954",
   "metadata": {},
   "source": [
    "O teste de **Shapiro-Wilk** nos deu com **95% de nível de confiança** de que a distribuição se assemelha muito a uma **distribuição normal**. O gráfico de **Box Plot** nos mostrou não haver valores outliers, portanto cumprindo os pressupostos estabelecidos, vamos realizar um **Teste T de Student para amostras pareadas**."
   ]
  },
  {
   "cell_type": "markdown",
   "id": "1c8ef21d",
   "metadata": {},
   "source": [
    "<img src=\"https://raw.githubusercontent.com/rgizsilva/Analise_Vendas_Excel/main/Graficos/teste_te.JPG\" alt=\"drawing\" width=\"600\"/>"
   ]
  },
  {
   "cell_type": "markdown",
   "id": "287394a7",
   "metadata": {},
   "source": [
    "Realizado o **Teste T de Student para amostras pareadas**, não podemos rejeitar a hipótese nula dado que o **p-valor** encontrado é maior que o *nível de significância alfa*. Portanto, concluímos não haver evidencia de que a média de vendas são significativamente diferentes, não houve um aumento nas vendas pós-campanha."
   ]
  },
  {
   "cell_type": "markdown",
   "id": "9bac36f6",
   "metadata": {},
   "source": [
    "----"
   ]
  },
  {
   "cell_type": "markdown",
   "id": "d5f3bdeb",
   "metadata": {},
   "source": [
    "Para finalizar, um **Dashboard** feito no **Power Bi** mostrando dados e indicadores focados na parte de  **Business Intelligence**."
   ]
  },
  {
   "cell_type": "code",
   "execution_count": 42,
   "id": "b53fbfe0",
   "metadata": {},
   "outputs": [
    {
     "name": "stdout",
     "output_type": "stream",
     "text": [
      "Performing device flow authentication. Please follow the instructions below.\n",
      "To sign in, use a web browser to open the page https://microsoft.com/devicelogin and enter the code EQ68RJTGS to authenticate.\n",
      "\n",
      "Device flow authentication successfully completed.\n",
      "You are now logged in.\n"
     ]
    }
   ],
   "source": [
    "# importando bibliotecas do powerbiclient\n",
    "from powerbiclient import Report,models\n",
    "from powerbiclient.authentication import DeviceCodeLoginAuthentication\n",
    "\n",
    "\n",
    "# realizando login no site da Microsoft\n",
    "device_auth = DeviceCodeLoginAuthentication()"
   ]
  },
  {
   "cell_type": "code",
   "execution_count": 43,
   "id": "f4cb58dd",
   "metadata": {},
   "outputs": [],
   "source": [
    "# instanciando token\n",
    "access_token = device_auth.get_access_token()\n",
    "\n",
    "# definindo endereço do Dashboard \n",
    "group_id= \"2b2eb63d-7900-43a8-993b-81689ae80524\"\n",
    "report_id = \"8e18cce1-45c0-4e30-afc9-668826fc9b88\"\n"
   ]
  },
  {
   "cell_type": "code",
   "execution_count": 44,
   "id": "d2c94fc1",
   "metadata": {},
   "outputs": [],
   "source": [
    "# criando report para o Dashboard\n",
    "report = Report(group_id=group_id,report_id=report_id,auth=device_auth)\n"
   ]
  },
  {
   "cell_type": "code",
   "execution_count": 47,
   "id": "2f8946bd",
   "metadata": {},
   "outputs": [
    {
     "data": {
      "application/vnd.jupyter.widget-view+json": {
       "model_id": "58c2e5a3035c4296973b3e43b10d7108",
       "version_major": 2,
       "version_minor": 0
      },
      "text/plain": [
       "Report()"
      ]
     },
     "metadata": {},
     "output_type": "display_data"
    }
   ],
   "source": [
    "report"
   ]
  },
  {
   "cell_type": "code",
   "execution_count": null,
   "id": "95d63a6a",
   "metadata": {},
   "outputs": [],
   "source": []
  }
 ],
 "metadata": {
  "kernelspec": {
   "display_name": "Python 3 (ipykernel)",
   "language": "python",
   "name": "python3"
  },
  "language_info": {
   "codemirror_mode": {
    "name": "ipython",
    "version": 3
   },
   "file_extension": ".py",
   "mimetype": "text/x-python",
   "name": "python",
   "nbconvert_exporter": "python",
   "pygments_lexer": "ipython3",
   "version": "3.9.12"
  }
 },
 "nbformat": 4,
 "nbformat_minor": 5
}
